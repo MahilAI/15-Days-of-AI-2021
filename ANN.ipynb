{
  "nbformat": 4,
  "nbformat_minor": 0,
  "metadata": {
    "colab": {
      "name": "ANN.ipynb",
      "provenance": [],
      "collapsed_sections": []
    },
    "kernelspec": {
      "name": "python3",
      "display_name": "Python 3"
    },
    "language_info": {
      "name": "python"
    }
  },
  "cells": [
    {
      "cell_type": "code",
      "metadata": {
        "id": "-wtzUk9lGCAU"
      },
      "source": [
        "import numpy as np\n",
        "import matplotlib.pyplot as plt\n",
        "from scipy.special import xlogy\n",
        "import h5py\n",
        "from sklearn import datasets\n",
        "from sklearn.model_selection import train_test_split\n",
        "from sklearn.metrics import accuracy_score"
      ],
      "execution_count": 32,
      "outputs": []
    },
    {
      "cell_type": "code",
      "metadata": {
        "id": "RW695ZquGv60"
      },
      "source": [
        "def load_dataset():\n",
        "  data=datasets.load_iris()\n",
        "  x=data.data[:,:2]\n",
        "  y=(data.target!=0)*1\n",
        "  X_train, X_test, y_train, y_test = train_test_split(x, y, test_size=0.33, random_state=42)\n",
        "  return X_train, X_test, y_train, y_test"
      ],
      "execution_count": 33,
      "outputs": []
    },
    {
      "cell_type": "code",
      "metadata": {
        "id": "Lzne_aFtG0v0"
      },
      "source": [
        "def relu(Z):\n",
        "  return np.maximum(Z, 0)"
      ],
      "execution_count": 34,
      "outputs": []
    },
    {
      "cell_type": "code",
      "metadata": {
        "id": "jn0KFgfEG5Fw"
      },
      "source": [
        "def relu_prime(Z):\n",
        "  return (Z>0).astype(Z.dtype)"
      ],
      "execution_count": 35,
      "outputs": []
    },
    {
      "cell_type": "code",
      "metadata": {
        "id": "BffFWkvPG8Sk"
      },
      "source": [
        "def sigmoid(Z):\n",
        "  return 1/(1+np.power(np.e, -Z))"
      ],
      "execution_count": 36,
      "outputs": []
    },
    {
      "cell_type": "code",
      "metadata": {
        "id": "45ZuJYTZG-Uy"
      },
      "source": [
        "def sigmoid_prime(Z):\n",
        "  return Z * (1-Z)"
      ],
      "execution_count": 37,
      "outputs": []
    },
    {
      "cell_type": "code",
      "metadata": {
        "id": "QT5idTo_HBSj"
      },
      "source": [
        "def leaky_relu(Z, alpha=0.01):\n",
        "  return np.where(Z > 0, Z, Z * alpha)"
      ],
      "execution_count": 38,
      "outputs": []
    },
    {
      "cell_type": "code",
      "metadata": {
        "id": "mFSDpLvNHFQr"
      },
      "source": [
        "def leaky_relu_prime(Z, alpha=0.01):\n",
        "  dz = np.ones_like(Z)\n",
        "  dz[Z < 0] = alpha\n",
        "  return dz"
      ],
      "execution_count": 39,
      "outputs": []
    },
    {
      "cell_type": "code",
      "metadata": {
        "id": "p5JfN_sdHH5S"
      },
      "source": [
        "def tanh(Z):\n",
        "  return np.tanh(Z)"
      ],
      "execution_count": 40,
      "outputs": []
    },
    {
      "cell_type": "code",
      "metadata": {
        "id": "Iv5_2RiSHK1y"
      },
      "source": [
        "def tanh_prime(Z):\n",
        "  return 1-(tanh(Z)**2)"
      ],
      "execution_count": 41,
      "outputs": []
    },
    {
      "cell_type": "code",
      "metadata": {
        "id": "veUHUZ0-HOf7"
      },
      "source": [
        "def get_activation_function(name):\n",
        "  if name=='relu':\n",
        "    return relu\n",
        "  elif name=='sigmoid':\n",
        "    return sigmoid\n",
        "  elif name=='leaky_relu':\n",
        "    return leaky_relu\n",
        "  elif name=='tanh':\n",
        "    return tanh\n",
        "  else:\n",
        "    raise ValueError('Only \"relu\", \"leaky_relu\", \"tanh\" and \"sigmoid\" supported')"
      ],
      "execution_count": 42,
      "outputs": []
    },
    {
      "cell_type": "code",
      "metadata": {
        "id": "4LVFMgjEHR4C"
      },
      "source": [
        "def get_derivative_activation_function(name):\n",
        "  if name=='relu':\n",
        "    return relu_prime\n",
        "  elif name=='sigmoid':\n",
        "    return sigmoid_prime\n",
        "  elif name=='leaky_relu':\n",
        "    return leaky_relu_prime\n",
        "  elif name=='tanh':\n",
        "    return tanh_prime\n",
        "  else:\n",
        "    raise ValueError('Only \"relu\", \"leaky_relu\", \"tanh\" and \"sigmoid\" supported')"
      ],
      "execution_count": 43,
      "outputs": []
    },
    {
      "cell_type": "code",
      "metadata": {
        "id": "eyH7S9cGHUty"
      },
      "source": [
        "def initialize_layer_weights(n_l_1, n_l, random_state=0):\n",
        "  np.random.seed(random_state)\n",
        "  wl = np.random.randn(n_l_1, n_l) * np.sqrt(2/n_l_1)\n",
        "  bl = np.random.randn(1, n_l) * np.sqrt(2/n_l_1)\n",
        "  return {'wl': wl, 'bl': bl}"
      ],
      "execution_count": 44,
      "outputs": []
    },
    {
      "cell_type": "code",
      "metadata": {
        "id": "WVeI1zZmHXlS"
      },
      "source": [
        "class Dense:\n",
        "  def __init__(self, input_dim, units, activation, random_state=0):\n",
        "    params = initialize_layer_weights(input_dim, units, random_state)\n",
        "    self.units = units\n",
        "    self.W = params['wl']\n",
        "    self.b = params['bl']\n",
        "    self.activation = activation\n",
        "    self.Z = None\n",
        "    self.A = None\n",
        "    self.dz = None\n",
        "    self.da = None\n",
        "    self.dw = None\n",
        "    self.db = None"
      ],
      "execution_count": 45,
      "outputs": []
    },
    {
      "cell_type": "code",
      "metadata": {
        "id": "ndK9xBrHHaTZ"
      },
      "source": [
        "def forward_prop(X, model):\n",
        "  for i in range(len(model)):\n",
        "    if i==0:\n",
        "      X_l_1 = X.copy()\n",
        "    else:\n",
        "      X_l_1 = model[i-1].A\n",
        "    model[i].Z = np.dot(X_l_1, model[i].W) + model[i].b\n",
        "    model[i].A = get_activation_function(model[i].activation)(model[i].Z) \n",
        "  return model"
      ],
      "execution_count": 46,
      "outputs": []
    },
    {
      "cell_type": "code",
      "metadata": {
        "id": "dRGfdmNDHc-b"
      },
      "source": [
        "def calculate_loss(y, model):\n",
        "  m = y.shape[0]\n",
        "  A = model[-1].A\n",
        "  return np.squeeze(-(1./m)*np.sum(np.multiply(y, np.log(A))+np.multiply(np.log(1-A), 1-y)))"
      ],
      "execution_count": 47,
      "outputs": []
    },
    {
      "cell_type": "code",
      "metadata": {
        "id": "O07RPScaHhcj"
      },
      "source": [
        "def backward_prop(X, y, model):\n",
        "  m = X.shape[0]\n",
        "  for i in range(len(model)-1, -1, -1):\n",
        "    if i==len(model)-1:\n",
        "      model[i].dz = model[-1].A - y\n",
        "      model[i].dw = 1./m * np.dot(model[i-1].A.T, model[i].dz)\n",
        "      model[i].db = 1./m * np.sum(model[i].dz, axis=0, keepdims=True)\n",
        "      model[i-1].da = np.dot(model[i].dz, model[i].W.T)\n",
        "      #print(i)\n",
        "      #print(model[i].dz.shape)\n",
        "      #print(model[i].W.shape)\n",
        "    else:\n",
        "      #print(i)\n",
        "      #print(model[i].da)\n",
        "      model[i].dz = np.multiply(np.int64(model[i].A>0), model[i].da) * get_derivative_activation_function(model[i].activation)(model[i].Z)\n",
        "      if i!=0:\n",
        "        model[i].dw = 1./m * np.dot(model[i-1].A.T, model[i].dz)\n",
        "      else:\n",
        "        model[i].dw = 1./m * np.dot(X.T, model[i].dz)\n",
        "      model[i].db = 1./m * np.sum(model[i].dz, axis=0, keepdims=True)\n",
        "      if i!=0:\n",
        "        model[i-1].da = np.dot(model[i].dz, model[i].W.T)\n",
        "        #print(i)\n",
        "        #print(model[i].dz.shape)\n",
        "        #print(model[i].W.shape)\n",
        "  return model"
      ],
      "execution_count": 48,
      "outputs": []
    },
    {
      "cell_type": "code",
      "metadata": {
        "id": "xYL5vEDeHkVU"
      },
      "source": [
        "def update_weights(model, learning_rate=0.01):\n",
        "  for i in range(len(model)):\n",
        "    model[i].W -= learning_rate*model[i].dw\n",
        "    model[i].b -= learning_rate*model[i].db\n",
        "  return model"
      ],
      "execution_count": 49,
      "outputs": []
    },
    {
      "cell_type": "code",
      "metadata": {
        "id": "wi0VaiMwHlfr"
      },
      "source": [
        "def predict(X, y, model):\n",
        "  model1 = forward_prop(X, model.copy())\n",
        "  predictions = np.where(model1[-1].A > 0.5, 1, 0)\n",
        "  return predictions"
      ],
      "execution_count": 50,
      "outputs": []
    },
    {
      "cell_type": "code",
      "metadata": {
        "id": "FF6mEx_6Hr67"
      },
      "source": [
        "def print_mislabeled_images(classes, X, y, p):\n",
        "  a = p + y\n",
        "  mislabeled_indices = np.asarray(np.where(a == 1))\n",
        "  plt.rcParams['figure.figsize'] = (40.0, 40.0)\n",
        "  num_images = len(mislabeled_indices[0])\n",
        "  for i in range(num_images):\n",
        "      index = mislabeled_indices[0][i]\n",
        "      plt.subplot(2, num_images, i + 1)\n",
        "      plt.imshow(X[index, :].reshape(64,64,3), interpolation='nearest')\n",
        "      plt.axis('off')\n",
        "      plt.title(\"Prediction: \" + classes[int(p[index, 0])].decode(\"utf-8\") + \" \\n Class: \" + classes[y[index, 0]].decode(\"utf-8\"))"
      ],
      "execution_count": 51,
      "outputs": []
    },
    {
      "cell_type": "code",
      "metadata": {
        "id": "as17MGypHudC"
      },
      "source": [
        "X_train, X_test, y_train, y_test = load_dataset()\n",
        "y_train = y_train.reshape(-1, 1)\n",
        "y_test = y_test.reshape(-1, 1)"
      ],
      "execution_count": 52,
      "outputs": []
    },
    {
      "cell_type": "code",
      "metadata": {
        "colab": {
          "base_uri": "https://localhost:8080/"
        },
        "id": "QW9_chSPHyoU",
        "outputId": "a6336f0e-5214-4669-e027-347a9ca01323"
      },
      "source": [
        "print(X_train.shape)\n",
        "print(y_train.shape)\n",
        "print(X_test.shape)\n",
        "print(y_test.shape)"
      ],
      "execution_count": 53,
      "outputs": [
        {
          "output_type": "stream",
          "text": [
            "(100, 2)\n",
            "(100, 1)\n",
            "(50, 2)\n",
            "(50, 1)\n"
          ],
          "name": "stdout"
        }
      ]
    },
    {
      "cell_type": "code",
      "metadata": {
        "id": "_bf9MePQIoD8"
      },
      "source": [
        "X_train = X_train.reshape(X_train.shape[0], -1)\n",
        "X_test = X_test.reshape(X_test.shape[0], -1)"
      ],
      "execution_count": 54,
      "outputs": []
    },
    {
      "cell_type": "code",
      "metadata": {
        "id": "B3n2UrdSH2s9"
      },
      "source": [
        "random_state = 42\n",
        "epochs = 1\n",
        "\n",
        "model = []\n",
        "model.append(Dense(input_dim = X_train.shape[1], units=20, activation='relu', random_state=random_state))\n",
        "model.append(Dense(input_dim = 20, units=16, activation='relu', random_state=random_state))\n",
        "model.append(Dense(input_dim = 16, units=8, activation='relu', random_state=random_state))\n",
        "model.append(Dense(input_dim = 8, units=4, activation='relu', random_state=random_state))\n",
        "model.append(Dense(input_dim = 4, units=y_train.shape[1], activation='sigmoid', random_state=random_state))"
      ],
      "execution_count": 55,
      "outputs": []
    },
    {
      "cell_type": "code",
      "metadata": {
        "colab": {
          "base_uri": "https://localhost:8080/"
        },
        "id": "MdKEeQYSH53b",
        "outputId": "e1d60399-7b03-4a47-f351-22105f9bd2c4"
      },
      "source": [
        "for i in range(epochs):\n",
        "  model = forward_prop(X_train, model)\n",
        "  loss = calculate_loss(y_train, model)\n",
        "  model = backward_prop(X_train, y_train, model)\n",
        "  model = update_weights(model, 5e-3)\n",
        "\n",
        "  if i%(epochs/10)==0:\n",
        "    print('Epoch: {}\\tLoss: {:.6f}\\tTrain Accuracy: {:.3f}\\tTest Accuracy: {:.3f}'\n",
        "    .format(i, loss, accuracy_score(y_train, predict(X_train, y_train, model)), accuracy_score(y_test, predict(X_test, y_test, model))))"
      ],
      "execution_count": 56,
      "outputs": [
        {
          "output_type": "stream",
          "text": [
            "Epoch: 0\tLoss: 0.812263\tTrain Accuracy: 0.690\tTest Accuracy: 0.620\n"
          ],
          "name": "stdout"
        }
      ]
    },
    {
      "cell_type": "code",
      "metadata": {
        "id": "rXMOWERJIwdN"
      },
      "source": [
        ""
      ],
      "execution_count": 56,
      "outputs": []
    }
  ]
}